{
 "cells": [
  {
   "cell_type": "code",
   "execution_count": 15,
   "id": "379d6a67-4e24-4af8-9995-a1c81f15b200",
   "metadata": {},
   "outputs": [],
   "source": [
    "import pandas as pd\n",
    "import numpy as np\n",
    "from sklearn.neural_network import MLPClassifier\n",
    "from sklearn.model_selection import GridSearchCV\n",
    "from sklearn.datasets import load_iris\n",
    "from sklearn.model_selection import train_test_split\n",
    "from sklearn.preprocessing import StandardScaler\n",
    "from sklearn.metrics import mean_absolute_percentage_error, mean_squared_error, r2_score\n",
    "from sklearn.metrics import confusion_matrix, accuracy_score, classification_report\n",
    "import matplotlib.pyplot as plt\n",
    "import seaborn as sns\n",
    "from tensorflow.keras.models import Sequential\n",
    "from tensorflow.keras.layers import Dense\n",
    "import tensorflow as tf\n",
    "import shap\n",
    "from sklearn.preprocessing import StandardScaler"
   ]
  },
  {
   "cell_type": "code",
   "execution_count": 16,
   "id": "4e5f1125-e1fe-4e8d-a54b-20468370b8e5",
   "metadata": {},
   "outputs": [
    {
     "name": "stdout",
     "output_type": "stream",
     "text": [
      "   YEAR  STATE  FLOOD OCCURENCE     RH  MAX_TEMP  MIN_TEMP  PRECIPITATION\n",
      "0  1990  BENUE                0  77.38     35.99     14.08        1165.43\n",
      "1  1990    FCT                0  74.44     38.61     13.43        1270.90\n",
      "2  1990   KOGI                0  77.50     36.12     16.42         949.22\n",
      "3  1990  KWARA                0  68.44     39.73     15.85         849.02\n",
      "4  1990   NASS                0  74.12     38.76     14.87        1244.53\n"
     ]
    }
   ],
   "source": [
    "# Load the dataset\n",
    "data = pd.read_csv('C:/Users/user/Desktop/Graduate Applications/Flood Data/Flood_Data1.csv')\n",
    "\n",
    "# Inspect the first few rows\n",
    "print(data.head())"
   ]
  },
  {
   "cell_type": "code",
   "execution_count": 17,
   "id": "dccb7399-41dc-4678-a4f0-96a36c7ec5a4",
   "metadata": {},
   "outputs": [
    {
     "name": "stdout",
     "output_type": "stream",
     "text": [
      "   YEAR     RH  MAX_TEMP  MIN_TEMP  PRECIPITATION  STATE_FCT  STATE_KOGI  \\\n",
      "0  1990  77.38     35.99     14.08        1165.43      False       False   \n",
      "1  1990  74.44     38.61     13.43        1270.90       True       False   \n",
      "2  1990  77.50     36.12     16.42         949.22      False        True   \n",
      "3  1990  68.44     39.73     15.85         849.02      False       False   \n",
      "4  1990  74.12     38.76     14.87        1244.53      False       False   \n",
      "\n",
      "   STATE_KWARA  STATE_NASS  STATE_NIGER  STATE_PLATEAU  \n",
      "0        False       False        False          False  \n",
      "1        False       False        False          False  \n",
      "2        False       False        False          False  \n",
      "3         True       False        False          False  \n",
      "4        False        True        False          False  \n"
     ]
    }
   ],
   "source": [
    "# Define the features (X) and target (y)\n",
    "X = data.drop(columns=['FLOOD OCCURENCE'])  # All independent variables\n",
    "y = data['FLOOD OCCURENCE']  # Dependent variable\n",
    "\n",
    "# If 'State' is categorical, you need to encode it\n",
    "X = pd.get_dummies(X, columns=['STATE'], drop_first=True)\n",
    "\n",
    "# Check the processed data\n",
    "print(X.head())"
   ]
  },
  {
   "cell_type": "code",
   "execution_count": 18,
   "id": "e446ba38-dee3-45ab-a20b-5bf1c5300728",
   "metadata": {},
   "outputs": [
    {
     "name": "stdout",
     "output_type": "stream",
     "text": [
      "Best parameters found:  {'activation': 'relu', 'alpha': 0.0001, 'hidden_layer_sizes': (100, 50), 'learning_rate': 'constant', 'solver': 'sgd'}\n",
      "Best cross-validation accuracy: 0.82\n",
      "Test accuracy: 0.86\n"
     ]
    }
   ],
   "source": [
    "#Spliting Data into Training and Testing Sets\n",
    "X_train, X_test, y_train, y_test = train_test_split(X, y, test_size=0.3, random_state=50)\n",
    "\n",
    "#Feature Scaling\n",
    "scaler = StandardScaler()\n",
    "X_train = scaler.fit_transform(X_train)\n",
    "X_test = scaler.transform(X_test)#\n",
    "\n",
    "# Initialize the MLPClassifier (ANN)\n",
    "ann_clf = MLPClassifier(random_state=42, max_iter=1000)\n",
    "\n",
    "# Define the hyperparameters and their respective values to be tested\n",
    "param_grid = {\n",
    "    'hidden_layer_sizes': [(50,50), (100,), (100, 50), (150, 100, 50)],\n",
    "    'activation': ['tanh', 'relu'],\n",
    "    'solver': ['adam', 'sgd'],\n",
    "    'alpha': [0.0001, 0.001, 0.01],\n",
    "    'learning_rate': ['constant', 'adaptive'],\n",
    "}\n",
    "\n",
    "# Use GridSearchCV for hyperparameter tuning\n",
    "grid_search = GridSearchCV(estimator=ann_clf, param_grid=param_grid, cv=5, scoring='accuracy', n_jobs=-1)\n",
    "\n",
    "# Fit the model on the training data\n",
    "grid_search.fit(X_train, y_train)\n",
    "\n",
    "# Print the best parameters and the corresponding best score\n",
    "print(\"Best parameters found: \", grid_search.best_params_)\n",
    "print(\"Best cross-validation accuracy: {:.2f}\".format(grid_search.best_score_))\n",
    "\n",
    "# Evaluate the best model on the test data\n",
    "best_model = grid_search.best_estimator_\n",
    "test_accuracy = best_model.score(X_test, y_test)\n",
    "print(\"Test accuracy: {:.2f}\".format(test_accuracy))"
   ]
  },
  {
   "cell_type": "code",
   "execution_count": 24,
   "id": "ca4ae641-0131-4f56-b51b-465c1b1b3824",
   "metadata": {},
   "outputs": [
    {
     "name": "stdout",
     "output_type": "stream",
     "text": [
      "MAPE: 0.1429\n",
      "MSE: 0.1429\n",
      "R²: -0.1667\n",
      "RMSE: 0.3780\n"
     ]
    }
   ],
   "source": [
    "# Predict on the test data\n",
    "y_pred = best_model.predict(X_test)\n",
    "\n",
    "# Calculate MAPE\n",
    "mape = mean_absolute_percentage_error(y_test, y_pred)\n",
    "\n",
    "# Calculate MSE\n",
    "mse = mean_squared_error(y_test, y_pred)\n",
    "\n",
    "# Calculate R-squared (R²)\n",
    "r2 = r2_score(y_test, y_pred)\n",
    "\n",
    "# Calculate RMSE\n",
    "rmse = np.sqrt(mse)\n",
    "\n",
    "# Print the results\n",
    "print(f\"MAPE: {mape:.4f}\")\n",
    "print(f\"MSE: {mse:.4f}\")\n",
    "print(f\"R²: {r2:.4f}\")\n",
    "print(f\"RMSE: {rmse:.4f}\")"
   ]
  },
  {
   "cell_type": "code",
   "execution_count": 26,
   "id": "1337f925-be74-411d-9e0c-15d6d59bd458",
   "metadata": {},
   "outputs": [
    {
     "data": {
      "image/png": "[encoded data removed]",
      "text/plain": [
       "<Figure size 800x600 with 2 Axes>"
      ]
     },
     "metadata": {},
     "output_type": "display_data"
    }
   ],
   "source": [
    "# Compute the confusion matrix\n",
    "conf_matrix = confusion_matrix(y_test, y_pred)\n",
    "\n",
    "# Plot the confusion matrix\n",
    "plt.figure(figsize=(8, 6))\n",
    "sns.heatmap(conf_matrix, annot=True, fmt='d', cmap='Blues')\n",
    "plt.xlabel('Predicted')\n",
    "plt.ylabel('Actual')\n",
    "plt.title('Confusion Matrix')\n",
    "plt.savefig('C:/Users/user/Desktop/Graduate Applications/Manuscripts/Flood prediction/image3', dpi=200)\n",
    "plt.show()"
   ]
  },
  {
   "cell_type": "code",
   "execution_count": 21,
   "id": "f40af38a-c852-416f-b261-56519765023b",
   "metadata": {},
   "outputs": [
    {
     "name": "stdout",
     "output_type": "stream",
     "text": [
      "Accuracy: 85.71%\n"
     ]
    }
   ],
   "source": [
    "# Calculate accuracy\n",
    "accuracy = accuracy_score(y_test, y_pred)\n",
    "print(f'Accuracy: {accuracy * 100:.2f}%')"
   ]
  },
  {
   "cell_type": "code",
   "execution_count": 23,
   "id": "94277966-784d-4363-89d3-8c7c663e1708",
   "metadata": {},
   "outputs": [
    {
     "data": {
      "image/png": "[encoded data removed]",
      "text/plain": [
       "<Figure size 1000x600 with 1 Axes>"
      ]
     },
     "metadata": {},
     "output_type": "display_data"
    }
   ],
   "source": [
    "# Plot feature importances\n",
    "\n",
    "from sklearn.metrics import accuracy_score\n",
    "from sklearn.utils import shuffle\n",
    "\n",
    "def compute_accuracy(X, y):\n",
    "    y_pred = best_model.predict(X)\n",
    "    y_pred_class = (y_pred > 0.5).astype(int).flatten()\n",
    "    return accuracy_score(y, y_pred_class)\n",
    "\n",
    "# Calculate baseline accuracy\n",
    "baseline_accuracy = compute_accuracy(X_test, y_test)\n",
    "\n",
    "# Initialize permutation importance array\n",
    "importances = np.zeros(X.shape[1])\n",
    "importances_std = np.zeros(X.shape[1])\n",
    "\n",
    "# Calculate permutation importance for each feature\n",
    "for i in range(X.shape[1]):\n",
    "    X_permuted = X_test.copy()\n",
    "    X_permuted[:, i] = shuffle(X_permuted[:, i], random_state=50)\n",
    "    permuted_accuracy = compute_accuracy(X_permuted, y_test)\n",
    "    importances[i] = baseline_accuracy - permuted_accuracy\n",
    "\n",
    "# Create a DataFrame for better visualization\n",
    "importance_df = pd.DataFrame({\n",
    "    'Feature': X.columns,\n",
    "    'Importance': importances\n",
    "})\n",
    "\n",
    "# Sort by importance\n",
    "importance_df = importance_df.sort_values(by='Importance', ascending=False)\n",
    "\n",
    "\n",
    "# Plot feature importances\n",
    "plt.figure(figsize=(10, 6))\n",
    "plt.barh(importance_df['Feature'], importance_df['Importance'], color='blue')\n",
    "plt.xlabel(\"Permutation Importance\")\n",
    "plt.title(\"Feature Importance based on Permutation for ANN Model\")\n",
    "plt.tight_layout()\n",
    "plt.show()"
   ]
  },
  {
   "cell_type": "code",
   "execution_count": null,
   "id": "c668a0d0-fcfe-41f9-a175-f75880fc4ab9",
   "metadata": {},
   "outputs": [],
   "source": [
    "from sklearn.metrics import mean_absolute_percentage_error, mean_absolute_error, mean_squared_error, r2_score\n",
    "\n",
    "# Compute metrics\n",
    "mape = mean_absolute_percentage_error(y_test, y_pred)\n",
    "rmse = np.sqrt(mean_squared_error(y_test, y_pred))\n",
    "mae = mean_absolute_error(y_test, y_pred)\n",
    "r2 = r2_score(y_test, y_pred)\n",
    "\n",
    "print(f\"Mean Absolute Percentage Error (MAPE): {mape:.2f}%\")\n",
    "print(f\"Root Mean Square Error (RMSE): {rmse:.2f}\")\n",
    "print(f\"Mean Absolute Error (MAE): {mae:.2f}\")\n",
    "print(f\"R² (Goodness of Fit): {r2:.2f}\")"
   ]
  },
  {
   "cell_type": "code",
   "execution_count": null,
   "id": "0825467e-a432-4017-90c7-7ca4b82a6de1",
   "metadata": {},
   "outputs": [],
   "source": [
    "def safe_mean_absolute_percentage_error(y_true, y_pred):\n",
    "    \"\"\"Compute MAPE while handling zero values in y_true\"\"\"\n",
    "    y_true, y_pred = np.array(y_true), np.array(y_pred)\n",
    "    # Avoid division by zero\n",
    "    nonzero_elements = y_true != 0\n",
    "    if np.any(nonzero_elements):\n",
    "        return np.mean(np.abs((y_true[nonzero_elements] - y_pred[nonzero_elements]) / y_true[nonzero_elements])) * 100\n",
    "    else:\n",
    "        return np.nan  # Return NaN if all y_true values are zero\n",
    "\n",
    "# Assuming you have the trained models and X_test, y_test\n",
    "def compute_metrics(y_true, y_pred):\n",
    "    mape = safe_mean_absolute_percentage_error(y_true, y_pred)\n",
    "    rmse = np.sqrt(mean_squared_error(y_true, y_pred))\n",
    "    mae = mean_absolute_error(y_true, y_pred)\n",
    "    r2 = r2_score(y_true, y_pred)\n",
    "    return mape, rmse, mae, r2\n",
    "\n",
    "# For each model:\n",
    "def print_metrics(model_name, y_true, y_pred):\n",
    "    mape, rmse, mae, r2 = compute_metrics(y_true, y_pred)\n",
    "    print(f\"{model_name} Model Metrics:\")\n",
    "    print(f\"Mean Absolute Percentage Error (MAPE): {mape:.2f}%\")\n",
    "    print(f\"Root Mean Square Error (RMSE): {rmse:.2f}\")\n",
    "    print(f\"Mean Absolute Error (MAE): {mae:.2f}\")\n",
    "    print(f\"R² (Goodness of Fit): {r2:.2f}\\n\")\n",
    "\n",
    "# Example for AdaBoost model (repeat similarly for other models)\n",
    "y_pred = model.predict(X_test)\n",
    "print_metrics(\"ANN\", y_test, y_pred)"
   ]
  },
  {
   "cell_type": "code",
   "execution_count": null,
   "id": "57b3d7b4-c953-42cb-b583-f12f8126e7c0",
   "metadata": {},
   "outputs": [],
   "source": [
    "from sklearn.metrics import roc_curve\n",
    "\n",
    "# Compute ROC curve\n",
    "fpr, tpr, thresholds = roc_curve(y_test, y_pred)\n",
    "\n",
    "# Plot Sensitivity (TPR) vs. (1 - Specificity)\n",
    "plt.figure(figsize=(10, 7))\n",
    "plt.plot(thresholds, tpr, color='blue', label='Sensitivity')\n",
    "plt.plot(thresholds, 1-fpr, color='red', label='Specificity')\n",
    "plt.xlabel('Threshold')\n",
    "plt.ylabel('Score')\n",
    "plt.title('Sensitivity and Specificity vs. Threshold')\n",
    "plt.legend(loc='best')\n",
    "plt.grid(True)\n",
    "plt.show()"
   ]
  },
  {
   "cell_type": "code",
   "execution_count": null,
   "id": "50d9168c-505a-4c1b-acc5-2ce6e5557a83",
   "metadata": {},
   "outputs": [],
   "source": [
    "from sklearn.metrics import roc_curve, auc\n",
    "\n",
    "# Compute ROC curve\n",
    "fpr, tpr, _ = roc_curve(y_test, y_pred)\n",
    "roc_auc = auc(fpr, tpr)\n",
    "\n",
    "# Plot ROC curve\n",
    "plt.figure(figsize=(10, 7))\n",
    "plt.plot(fpr, tpr, color='blue', label=f'ROC curve (area = {roc_auc:.2f})')\n",
    "plt.plot([0, 1], [0, 1], color='grey', linestyle='--')\n",
    "plt.xlim([0.0, 1.0])\n",
    "plt.ylim([0.0, 1.05])\n",
    "plt.xlabel('False Positive Rate')\n",
    "plt.ylabel('True Positive Rate (Sensitivity)')\n",
    "plt.title('Receiver Operating Characteristic (ROC) Curve')\n",
    "plt.legend(loc='lower right')\n",
    "plt.grid(True)\n",
    "plt.show()"
   ]
  },
  {
   "cell_type": "code",
   "execution_count": null,
   "id": "88b068a7-af82-41b5-ad47-f21b8e623065",
   "metadata": {},
   "outputs": [],
   "source": [
    "from sklearn.metrics import precision_recall_curve\n",
    "\n",
    "# Compute Precision-Recall curve\n",
    "precision, recall, _ = precision_recall_curve(y_test, y_pred)\n",
    "\n",
    "# Plot Precision-Recall curve\n",
    "plt.figure(figsize=(10, 7))\n",
    "plt.plot(recall, precision, color='blue', label='Precision-Recall curve')\n",
    "plt.xlabel('Recall (Sensitivity)')\n",
    "plt.ylabel('Precision')\n",
    "plt.title('Precision-Recall Curve')\n",
    "plt.legend(loc='lower left')\n",
    "plt.grid(True)\n",
    "plt.show()"
   ]
  },
  {
   "cell_type": "code",
   "execution_count": null,
   "id": "5e3cbbd3-c0c6-420d-8e8c-6fbfb0a2bfc6",
   "metadata": {},
   "outputs": [],
   "source": [
    "# Assume y_true and y_pred are your true labels and predicted labels respectively\n",
    "#conf_matrix = confusion_matrix(y_test, y_pred)\n",
    "\n",
    "# Extract True Positives (TP) and False Negatives (FN)\n",
    "TP = conf_matrix[1, 1]\n",
    "FN = conf_matrix[1, 0]\n",
    "\n",
    "# Calculate Sensitivity\n",
    "sensitivity = TP / (TP + FN)\n",
    "print(f\"Sensitivity: {sensitivity:.2f}\")"
   ]
  }
 ],
 "metadata": {
  "kernelspec": {
   "display_name": "Python 3 (ipykernel)",
   "language": "python",
   "name": "python3"
  },
  "language_info": {
   "codemirror_mode": {
    "name": "ipython",
    "version": 3
   },
   "file_extension": ".py",
   "mimetype": "text/x-python",
   "name": "python",
   "nbconvert_exporter": "python",
   "pygments_lexer": "ipython3",
   "version": "3.12.4"
  }
 },
 "nbformat": 4,
 "nbformat_minor": 5
}
